{
  "nbformat": 4,
  "nbformat_minor": 0,
  "metadata": {
    "colab": {
      "provenance": []
    },
    "kernelspec": {
      "name": "python3",
      "display_name": "Python 3"
    },
    "language_info": {
      "name": "python"
    }
  },
  "cells": [
    {
      "cell_type": "code",
      "execution_count": 8,
      "metadata": {
        "id": "7KZ-4IKDtLoG"
      },
      "outputs": [],
      "source": [
        "import numpy as np\n",
        "import cv2\n",
        "\n",
        "import PIL.Image as Image\n",
        "import os\n",
        "\n",
        "import matplotlib.pylab as plt\n",
        "\n",
        "import tensorflow as tf\n",
        "import tensorflow_hub as hub\n",
        "\n",
        "from tensorflow import keras\n",
        "from tensorflow.keras import layers\n",
        "from tensorflow.keras.models import Sequential\n",
        "from tensorflow.keras import Model\n",
        "from tensorflow.keras.utils import to_categorical\n",
        "from tensorflow.keras.losses import categorical_crossentropy\n",
        "from tensorflow.keras.preprocessing.image import ImageDataGenerator\n",
        "from tensorflow.keras.layers import Dense, Flatten, Conv2D, MaxPooling2D, Dropout\n",
        "from zipfile import ZipFile"
      ]
    },
    {
      "cell_type": "code",
      "source": [
        "from google.colab import drive\n",
        "drive.mount('/content/drive')"
      ],
      "metadata": {
        "colab": {
          "base_uri": "https://localhost:8080/"
        },
        "id": "y5QKqxARtTBy",
        "outputId": "f4297396-801a-4ce7-99a6-9246c099d0d3"
      },
      "execution_count": 9,
      "outputs": [
        {
          "output_type": "stream",
          "name": "stdout",
          "text": [
            "Mounted at /content/drive\n"
          ]
        }
      ]
    },
    {
      "cell_type": "code",
      "source": [
        "ZipFilePath = '/content/drive/MyDrive/pizza_classified_test_train.zip'\n",
        "DownloadedPath = '/sample/pizza_classified_test_train/'\n",
        "with ZipFile(ZipFilePath) as zipObj:\n",
        "  zipObj.extractall(DownloadedPath)"
      ],
      "metadata": {
        "id": "TKxdxXBdtWDp"
      },
      "execution_count": 10,
      "outputs": []
    },
    {
      "cell_type": "code",
      "source": [
        "EPOCHS = 30\n",
        "BATCH_SIZE = 32\n",
        "image_height = 224\n",
        "image_width = 224\n",
        "train_dir = \"/sample/pizza_classified_test_train/final folder/train\"\n",
        "valid_dir = \"/sample/pizza_classified_test_train/final folder/test\""
      ],
      "metadata": {
        "id": "I-Y0gQi4vPUt"
      },
      "execution_count": 11,
      "outputs": []
    },
    {
      "cell_type": "code",
      "source": [
        "train_datagen = ImageDataGenerator(\n",
        "                  rescale=1./255,\n",
        "                  rotation_range=10,\n",
        "                  width_shift_range=0.1,\n",
        "                  height_shift_range=0.1,\n",
        "                  shear_range=0.1,\n",
        "                  zoom_range=0.1)\n",
        "\n",
        "train_generator = train_datagen.flow_from_directory(train_dir,\n",
        "                                                    target_size=(image_height, image_width),\n",
        "                                                    color_mode=\"rgb\",\n",
        "                                                    batch_size=BATCH_SIZE,\n",
        "                                                    seed=1,\n",
        "                                                    shuffle=True,\n",
        "                                                    class_mode=\"categorical\")\n",
        "\n",
        "valid_datagen = ImageDataGenerator(rescale=1.0/255.0)\n",
        "valid_generator = valid_datagen.flow_from_directory(valid_dir,\n",
        "                                                    target_size=(image_height, image_width),\n",
        "                                                    color_mode=\"rgb\",\n",
        "                                                    batch_size=BATCH_SIZE,\n",
        "                                                    seed=7,\n",
        "                                                    shuffle=True,\n",
        "                                                    class_mode=\"categorical\"\n",
        "                                                    )\n",
        "train_num = train_generator.samples\n",
        "valid_num = valid_generator.samples"
      ],
      "metadata": {
        "colab": {
          "base_uri": "https://localhost:8080/"
        },
        "id": "LG5g2CVGvb9h",
        "outputId": "2ff61226-51ae-4155-b8ef-f59e0241662f"
      },
      "execution_count": 12,
      "outputs": [
        {
          "output_type": "stream",
          "name": "stdout",
          "text": [
            "Found 930 images belonging to 2 classes.\n",
            "Found 371 images belonging to 2 classes.\n"
          ]
        }
      ]
    },
    {
      "cell_type": "code",
      "source": [
        "def plot_accuracy(hist):\n",
        "  plt.plot(hist.history[\"accuracy\"])\n",
        "  plt.plot(hist.history[\"val_accuracy\"])\n",
        "  plt.title(\"Model accuracy\")\n",
        "  plt.ylabel(\"accuracy\")\n",
        "  plt.xlabel(\"epoch\")\n",
        "  plt.legend([\"train\", \"validation\"], loc=\"upper left\")\n",
        "  plt.show()\n",
        " \n",
        "def plot_loss(hist):\n",
        "  plt.plot(hist.history[\"loss\"])\n",
        "  plt.plot(hist.history[\"val_loss\"])\n",
        "  plt.title(\"Model loss\")\n",
        "  plt.ylabel(\"loss\")\n",
        "  plt.xlabel(\"epoch\")\n",
        "  plt.legend([\"train\", \"validation\"], loc=\"upper left\")\n",
        "  plt.show()"
      ],
      "metadata": {
        "id": "ZIpNxOaPqjzl"
      },
      "execution_count": null,
      "outputs": []
    },
    {
      "cell_type": "markdown",
      "source": [
        "#ResNet50"
      ],
      "metadata": {
        "id": "OtJUH8yf93C-"
      }
    },
    {
      "cell_type": "code",
      "source": [
        "feature_extractor_model = \"https://tfhub.dev/google/imagenet/resnet_v2_50/classification/5\"\n",
        "pre_trained_resnet_model = hub.KerasLayer(feature_extractor_model, input_shape=(224,224,3),trainable=False)"
      ],
      "metadata": {
        "id": "KFz-Nxtvvl5N"
      },
      "execution_count": null,
      "outputs": []
    },
    {
      "cell_type": "code",
      "source": [
        "num_of_classes = 2\n",
        "resNet = tf.keras.Sequential([pre_trained_resnet_model,\n",
        "                             tf.keras.layers.Dense(1001),\n",
        "                             tf.keras.layers.Dropout(0.1),\n",
        "                             tf.keras.layers.Dense(16),\n",
        "                             tf.keras.layers.Dense(num_of_classes)])\n",
        "resNet.summary()"
      ],
      "metadata": {
        "colab": {
          "base_uri": "https://localhost:8080/"
        },
        "id": "vKtNk1Pkvnwg",
        "outputId": "4bbe8859-859c-4fd9-a075-d4e590631abe"
      },
      "execution_count": null,
      "outputs": [
        {
          "output_type": "stream",
          "name": "stdout",
          "text": [
            "Model: \"sequential_3\"\n",
            "_________________________________________________________________\n",
            " Layer (type)                Output Shape              Param #   \n",
            "=================================================================\n",
            " keras_layer (KerasLayer)    (None, 1001)              25615849  \n",
            "                                                                 \n",
            " dense_8 (Dense)             (None, 1001)              1003002   \n",
            "                                                                 \n",
            " dropout (Dropout)           (None, 1001)              0         \n",
            "                                                                 \n",
            " dense_9 (Dense)             (None, 16)                16032     \n",
            "                                                                 \n",
            " dense_10 (Dense)            (None, 2)                 34        \n",
            "                                                                 \n",
            "=================================================================\n",
            "Total params: 26,634,917\n",
            "Trainable params: 1,019,068\n",
            "Non-trainable params: 25,615,849\n",
            "_________________________________________________________________\n"
          ]
        }
      ]
    },
    {
      "cell_type": "code",
      "source": [
        "resNet.compile(optimizer=tf.keras.optimizers.Adam(learning_rate=0.0001), loss=\"categorical_crossentropy\", metrics=[\"accuracy\"])"
      ],
      "metadata": {
        "id": "hBirQhrLxfAF"
      },
      "execution_count": null,
      "outputs": []
    },
    {
      "cell_type": "code",
      "source": [
        "resNet.optimizer.learning_rate"
      ],
      "metadata": {
        "colab": {
          "base_uri": "https://localhost:8080/"
        },
        "id": "SV7YELL4h0j3",
        "outputId": "de939e28-e7c6-44a6-d754-69f15a51c6c1"
      },
      "execution_count": null,
      "outputs": [
        {
          "output_type": "execute_result",
          "data": {
            "text/plain": [
              "<tf.Variable 'learning_rate:0' shape=() dtype=float32, numpy=1e-04>"
            ]
          },
          "metadata": {},
          "execution_count": 30
        }
      ]
    },
    {
      "cell_type": "code",
      "source": [
        "resnet = resNet.fit(train_generator, validation_data  = valid_generator, epochs=10, verbose=2)"
      ],
      "metadata": {
        "colab": {
          "base_uri": "https://localhost:8080/"
        },
        "id": "x4lsM9mMwhaV",
        "outputId": "380a3de8-5cf3-482f-d0b4-513692f7828b"
      },
      "execution_count": null,
      "outputs": [
        {
          "output_type": "stream",
          "name": "stdout",
          "text": [
            "Epoch 1/10\n",
            "30/30 - 157s - loss: 0.5298 - accuracy: 0.7516 - val_loss: 0.5874 - val_accuracy: 0.7412 - 157s/epoch - 5s/step\n",
            "Epoch 2/10\n",
            "30/30 - 154s - loss: 0.6025 - accuracy: 0.7656 - val_loss: 0.5323 - val_accuracy: 0.7520 - 154s/epoch - 5s/step\n",
            "Epoch 3/10\n",
            "30/30 - 151s - loss: 0.5538 - accuracy: 0.7645 - val_loss: 0.5362 - val_accuracy: 0.7520 - 151s/epoch - 5s/step\n",
            "Epoch 4/10\n",
            "30/30 - 152s - loss: 0.5590 - accuracy: 0.7634 - val_loss: 0.5095 - val_accuracy: 0.7844 - 152s/epoch - 5s/step\n",
            "Epoch 5/10\n",
            "30/30 - 192s - loss: 0.5610 - accuracy: 0.7871 - val_loss: 0.5908 - val_accuracy: 0.7682 - 192s/epoch - 6s/step\n",
            "Epoch 6/10\n",
            "30/30 - 151s - loss: 0.5562 - accuracy: 0.7753 - val_loss: 0.6528 - val_accuracy: 0.7871 - 151s/epoch - 5s/step\n",
            "Epoch 7/10\n",
            "30/30 - 150s - loss: 0.5860 - accuracy: 0.7699 - val_loss: 0.5889 - val_accuracy: 0.6873 - 150s/epoch - 5s/step\n",
            "Epoch 8/10\n",
            "30/30 - 155s - loss: 0.5531 - accuracy: 0.7161 - val_loss: 0.5262 - val_accuracy: 0.7008 - 155s/epoch - 5s/step\n",
            "Epoch 9/10\n",
            "30/30 - 153s - loss: 0.5209 - accuracy: 0.7226 - val_loss: 0.5134 - val_accuracy: 0.7062 - 153s/epoch - 5s/step\n",
            "Epoch 10/10\n",
            "30/30 - 153s - loss: 0.5311 - accuracy: 0.7344 - val_loss: 0.5053 - val_accuracy: 0.7143 - 153s/epoch - 5s/step\n"
          ]
        }
      ]
    },
    {
      "cell_type": "code",
      "source": [
        "plot_accuracy(resnet)"
      ],
      "metadata": {
        "colab": {
          "base_uri": "https://localhost:8080/",
          "height": 295
        },
        "id": "iRwi-Prdvz0K",
        "outputId": "447090fc-daf9-4564-cc90-a75580454b7a"
      },
      "execution_count": null,
      "outputs": [
        {
          "output_type": "display_data",
          "data": {
            "text/plain": [
              "<Figure size 432x288 with 1 Axes>"
            ],
            "image/png": "[encoded data removed]"
          },
          "metadata": {
            "needs_background": "light"
          }
        }
      ]
    },
    {
      "cell_type": "code",
      "source": [
        "plot_loss(resnet)"
      ],
      "metadata": {
        "colab": {
          "base_uri": "https://localhost:8080/",
          "height": 295
        },
        "id": "g9eveUglwrDu",
        "outputId": "94cf3dd1-2773-46ec-ec97-9e953648c144"
      },
      "execution_count": null,
      "outputs": [
        {
          "output_type": "display_data",
          "data": {
            "text/plain": [
              "<Figure size 432x288 with 1 Axes>"
            ],
            "image/png": "[encoded data removed]"
          },
          "metadata": {
            "needs_background": "light"
          }
        }
      ]
    },
    {
      "cell_type": "code",
      "source": [
        "resNet.evaluate(valid_generator)"
      ],
      "metadata": {
        "colab": {
          "base_uri": "https://localhost:8080/"
        },
        "id": "8R0JxY1-vyb4",
        "outputId": "244e0d03-3346-467e-dc07-f9e81d2d207e"
      },
      "execution_count": null,
      "outputs": [
        {
          "output_type": "stream",
          "name": "stdout",
          "text": [
            "12/12 [==============================] - 43s 3s/step - loss: 0.5053 - accuracy: 0.7143\n"
          ]
        },
        {
          "output_type": "execute_result",
          "data": {
            "text/plain": [
              "[0.5053405165672302, 0.7142857313156128]"
            ]
          },
          "metadata": {},
          "execution_count": 46
        }
      ]
    },
    {
      "cell_type": "markdown",
      "source": [
        "#InceptionV3"
      ],
      "metadata": {
        "id": "1Xypu_YD9y6U"
      }
    },
    {
      "cell_type": "code",
      "source": [
        "feature_extractor_model = \"https://tfhub.dev/google/imagenet/inception_v3/classification/5\"\n",
        "pre_trained_inception_model = hub.KerasLayer(feature_extractor_model, input_shape=(224,224,3),trainable=False)\n",
        "num_of_classes = 2\n",
        "inception_v3 = tf.keras.Sequential([pre_trained_inception_model,      \n",
        "                              tf.keras.layers.Dense(64),\n",
        "                              tf.keras.layers.Dropout(0.1),\n",
        "                              tf.keras.layers.Dense(16),\n",
        "                              tf.keras.layers.Dense(num_of_classes)])\n",
        "inception_v3.summary()"
      ],
      "metadata": {
        "colab": {
          "base_uri": "https://localhost:8080/"
        },
        "id": "L3CpMiyp58Oc",
        "outputId": "8752c9c2-c268-4fb3-9dd9-776d7c9f009e"
      },
      "execution_count": null,
      "outputs": [
        {
          "output_type": "stream",
          "name": "stdout",
          "text": [
            "Model: \"sequential_6\"\n",
            "_________________________________________________________________\n",
            " Layer (type)                Output Shape              Param #   \n",
            "=================================================================\n",
            " keras_layer_3 (KerasLayer)  (None, 1001)              23853833  \n",
            "                                                                 \n",
            " dense_17 (Dense)            (None, 64)                64128     \n",
            "                                                                 \n",
            " dropout_3 (Dropout)         (None, 64)                0         \n",
            "                                                                 \n",
            " dense_18 (Dense)            (None, 16)                1040      \n",
            "                                                                 \n",
            " dense_19 (Dense)            (None, 2)                 34        \n",
            "                                                                 \n",
            "=================================================================\n",
            "Total params: 23,919,035\n",
            "Trainable params: 65,202\n",
            "Non-trainable params: 23,853,833\n",
            "_________________________________________________________________\n"
          ]
        }
      ]
    },
    {
      "cell_type": "code",
      "source": [
        "inception_v3.compile(optimizer=\"adam\", loss='categorical_crossentropy', metrics=[\"accuracy\"])"
      ],
      "metadata": {
        "id": "Hs5AJ9FU6-J6"
      },
      "execution_count": null,
      "outputs": []
    },
    {
      "cell_type": "code",
      "source": [
        "inception = inception_v3.fit(train_generator,  validation_data  = valid_generator, epochs=5, verbose=2)"
      ],
      "metadata": {
        "colab": {
          "base_uri": "https://localhost:8080/"
        },
        "id": "Dv5AzR2r7A1_",
        "outputId": "d4ba95a4-85bf-4dbd-9758-d1948898f588"
      },
      "execution_count": null,
      "outputs": [
        {
          "output_type": "stream",
          "name": "stdout",
          "text": [
            "Epoch 1/5\n",
            "30/30 - 210s - loss: 1.4556 - accuracy: 0.4118 - val_loss: 0.6202 - val_accuracy: 0.3127 - 210s/epoch - 7s/step\n",
            "Epoch 2/5\n",
            "30/30 - 126s - loss: 0.6193 - accuracy: 0.2935 - val_loss: 0.5964 - val_accuracy: 0.3450 - 126s/epoch - 4s/step\n",
            "Epoch 3/5\n",
            "30/30 - 127s - loss: 0.5813 - accuracy: 0.2882 - val_loss: 0.5961 - val_accuracy: 0.3369 - 127s/epoch - 4s/step\n",
            "Epoch 4/5\n",
            "30/30 - 128s - loss: 0.5624 - accuracy: 0.2839 - val_loss: 0.6126 - val_accuracy: 0.3477 - 128s/epoch - 4s/step\n",
            "Epoch 5/5\n",
            "30/30 - 128s - loss: 0.5298 - accuracy: 0.2731 - val_loss: 0.5911 - val_accuracy: 0.3288 - 128s/epoch - 4s/step\n"
          ]
        }
      ]
    },
    {
      "cell_type": "code",
      "source": [
        "plot_accuracy(inception)"
      ],
      "metadata": {
        "colab": {
          "base_uri": "https://localhost:8080/",
          "height": 295
        },
        "id": "Gu-0y3-S7Put",
        "outputId": "404840d3-5357-4447-c39f-c4d7d6c3f76b"
      },
      "execution_count": null,
      "outputs": [
        {
          "output_type": "display_data",
          "data": {
            "text/plain": [
              "<Figure size 432x288 with 1 Axes>"
            ],
            "image/png": "[encoded data removed]"
          },
          "metadata": {
            "needs_background": "light"
          }
        }
      ]
    },
    {
      "cell_type": "code",
      "source": [
        "plot_loss(inception)"
      ],
      "metadata": {
        "id": "9zeA19xmeZLi",
        "colab": {
          "base_uri": "https://localhost:8080/",
          "height": 295
        },
        "outputId": "157db6ed-764d-4adf-9d00-d3734b9737d5"
      },
      "execution_count": null,
      "outputs": [
        {
          "output_type": "display_data",
          "data": {
            "text/plain": [
              "<Figure size 432x288 with 1 Axes>"
            ],
            "image/png": "[encoded data removed]"
          },
          "metadata": {
            "needs_background": "light"
          }
        }
      ]
    },
    {
      "cell_type": "code",
      "source": [
        "inception_v3.evaluate(valid_generator)"
      ],
      "metadata": {
        "colab": {
          "base_uri": "https://localhost:8080/"
        },
        "id": "K1akvyhg64pE",
        "outputId": "a5d87de7-365e-4dc0-ed15-f8fd45049a64"
      },
      "execution_count": null,
      "outputs": [
        {
          "output_type": "stream",
          "name": "stdout",
          "text": [
            "12/12 [==============================] - 35s 3s/step - loss: 0.5911 - accuracy: 0.3288\n"
          ]
        },
        {
          "output_type": "execute_result",
          "data": {
            "text/plain": [
              "[0.5911405682563782, 0.328840970993042]"
            ]
          },
          "metadata": {},
          "execution_count": 75
        }
      ]
    }
  ]
}