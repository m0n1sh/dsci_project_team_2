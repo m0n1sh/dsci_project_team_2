{
  "nbformat": 4,
  "nbformat_minor": 0,
  "metadata": {
    "colab": {
      "provenance": []
    },
    "kernelspec": {
      "name": "python3",
      "display_name": "Python 3"
    },
    "language_info": {
      "name": "python"
    }
  },
  "cells": [
    {
      "cell_type": "code",
      "execution_count": 7,
      "metadata": {
        "id": "7KZ-4IKDtLoG"
      },
      "outputs": [],
      "source": [
        "#Importing all the required libraries\n",
        "import numpy as np\n",
        "import cv2\n",
        "\n",
        "import PIL.Image as Image\n",
        "import os\n",
        "\n",
        "import matplotlib.pylab as plt\n",
        "\n",
        "import tensorflow as tf\n",
        "import tensorflow_hub as hub\n",
        "\n",
        "from tensorflow import keras\n",
        "from tensorflow.keras import layers\n",
        "from tensorflow.keras.models import Sequential\n",
        "from zipfile import ZipFile\n",
        "import datetime\n",
        "import numpy as np\n",
        "import os\n",
        "import tensorflow as tf\n",
        "import matplotlib.pyplot as plt\n",
        "from tqdm import tqdm\n",
        "\n",
        "from tensorflow.keras import Model\n",
        "# from tensorflow.keras.models import Sequential\n",
        "from tensorflow.keras.utils import to_categorical\n",
        "from tensorflow.keras.losses import categorical_crossentropy\n",
        "from tensorflow.keras.preprocessing.image import ImageDataGenerator\n",
        "from tensorflow.keras.layers import Dense, Flatten, Conv2D, MaxPooling2D, Dropout\n",
        "import numpy as np\n",
        "import cv2\n",
        "\n",
        "import PIL.Image as Image\n",
        "import os\n",
        "\n",
        "import matplotlib.pylab as plt\n",
        "\n",
        "import tensorflow as tf\n",
        "import tensorflow_hub as hub\n",
        "\n",
        "from tensorflow import keras\n",
        "from tensorflow.keras import layers\n",
        "from tensorflow.keras.models import Sequential"
      ]
    },
    {
      "cell_type": "code",
      "source": [
        "#Mounting the drive\n",
        "from google.colab import drive\n",
        "drive.mount('/content/drive')"
      ],
      "metadata": {
        "colab": {
          "base_uri": "https://localhost:8080/"
        },
        "id": "y5QKqxARtTBy",
        "outputId": "544bd666-a458-4f23-b8e6-947deebe7189"
      },
      "execution_count": 8,
      "outputs": [
        {
          "output_type": "stream",
          "name": "stdout",
          "text": [
            "Drive already mounted at /content/drive; to attempt to forcibly remount, call drive.mount(\"/content/drive\", force_remount=True).\n"
          ]
        }
      ]
    },
    {
      "cell_type": "code",
      "source": [
        "## Extracting the contents of the train data from drive.\n",
        "with ZipFile('/content/drive/MyDrive/train_pizza.zip') as zipObj:\n",
        "  zipObj.extractall('/sample/train_pizza/')"
      ],
      "metadata": {
        "id": "TKxdxXBdtWDp"
      },
      "execution_count": 9,
      "outputs": []
    },
    {
      "cell_type": "code",
      "source": [
        "#Extracting the contents of test data from drive.\n",
        "with ZipFile('/content/drive/MyDrive/test_pizza.zip') as zipObj1:\n",
        "  zipObj1.extractall('/test_pizza')"
      ],
      "metadata": {
        "id": "uCY7Yk9KtaOv"
      },
      "execution_count": 10,
      "outputs": []
    },
    {
      "cell_type": "code",
      "source": [
        "## Mark the paths.\n",
        "training_dataset_path = \"/sample/train_pizza/train_pizza\"\n",
        "test_dataset_path = \"/test/test_pizza\""
      ],
      "metadata": {
        "id": "RoKyjisNthxP"
      },
      "execution_count": 11,
      "outputs": []
    },
    {
      "cell_type": "code",
      "source": [
        "#Setting up the parameters.\n",
        "EPOCHS = 30\n",
        "BATCH_SIZE = 32\n",
        "image_height = 227\n",
        "image_width = 227\n",
        "train_dir = \"/sample/train_pizza/train\"\n",
        "valid_dir = \"/test_pizza/test_pizza\"\n",
        "# model_dir = \"./my_model.h5\""
      ],
      "metadata": {
        "id": "I-Y0gQi4vPUt"
      },
      "execution_count": 12,
      "outputs": []
    },
    {
      "cell_type": "code",
      "source": [
        "train_datagen = ImageDataGenerator(\n",
        "                  rescale=1./255,\n",
        "                  rotation_range=10,\n",
        "                  width_shift_range=0.1,\n",
        "                  height_shift_range=0.1,\n",
        "                  shear_range=0.1,\n",
        "                  zoom_range=0.1)\n",
        "\n",
        "train_generator = train_datagen.flow_from_directory(train_dir,\n",
        "                                                    target_size=(image_height, image_width),\n",
        "                                                    color_mode=\"rgb\",\n",
        "                                                    batch_size=BATCH_SIZE,\n",
        "                                                    seed=1,\n",
        "                                                    shuffle=True,\n",
        "                                                    class_mode=\"categorical\")\n",
        "\n",
        "valid_datagenerator = ImageDataGenerator(rescale=1.0/255.0)\n",
        "valid_generator = valid_datagenerator.flow_from_directory(valid_dir,\n",
        "                                                    target_size=(image_height, image_width),\n",
        "                                                    color_mode=\"rgb\",\n",
        "                                                    batch_size=BATCH_SIZE,\n",
        "                                                    seed=7,\n",
        "                                                    shuffle=True,\n",
        "                                                    class_mode=\"categorical\"\n",
        "                                                    )\n",
        "train_num = train_generator.samples\n",
        "valid_num = valid_generator.samples"
      ],
      "metadata": {
        "colab": {
          "base_uri": "https://localhost:8080/"
        },
        "id": "LG5g2CVGvb9h",
        "outputId": "fd19b0e2-cffc-4af4-c4e9-2bed750eb5a5"
      },
      "execution_count": 13,
      "outputs": [
        {
          "output_type": "stream",
          "name": "stdout",
          "text": [
            "Found 930 images belonging to 2 classes.\n",
            "Found 371 images belonging to 2 classes.\n"
          ]
        }
      ]
    },
    {
      "cell_type": "code",
      "source": [
        "#Defining a function for plotting the accuracy\n",
        "def plot_accuracy(hist):\n",
        "        \n",
        "  plt.plot(hist.history[\"accuracy\"])\n",
        "  plt.plot(hist.history[\"val_accuracy\"])\n",
        "  plt.title(\"Model accuracy\")\n",
        "  plt.ylabel(\"accuracy\")\n",
        "  plt.xlabel(\"epoch\")\n",
        "  plt.legend([\"train\", \"validation\"], loc=\"upper left\")\n",
        "  plt.show()"
      ],
      "metadata": {
        "id": "tosx6Aa8oVsv"
      },
      "execution_count": 14,
      "outputs": []
    },
    {
      "cell_type": "code",
      "source": [
        "#Defining a function for plotting the loss\n",
        "def plot_loss(hist):\n",
        "  plt.plot(hist.history[\"loss\"])\n",
        "  plt.plot(hist.history[\"val_loss\"])\n",
        "  plt.title(\"Model loss\")\n",
        "  plt.ylabel(\"loss\")\n",
        "  plt.xlabel(\"epoch\")\n",
        "  plt.legend([\"train\", \"validation\"], loc=\"upper left\")\n",
        "  plt.show()"
      ],
      "metadata": {
        "id": "8Cq_or4ioXAU"
      },
      "execution_count": 15,
      "outputs": []
    },
    {
      "cell_type": "markdown",
      "source": [
        "#VGG 16"
      ],
      "metadata": {
        "id": "h1CUA3RYP_Ky"
      }
    },
    {
      "cell_type": "code",
      "source": [
        "from tensorflow.keras.applications.vgg16 import VGG16\n",
        "from tensorflow.keras.preprocessing import image\n",
        "from tensorflow.keras.applications.vgg16 import preprocess_input\n",
        "import numpy as np\n",
        "\n",
        "#Defining the model for VGG16\n",
        "model = VGG16(input_shape= [224,224,3],\n",
        "              weights='imagenet',\n",
        "              include_top=False)\n",
        "\n",
        "\n"
      ],
      "metadata": {
        "id": "t5Yd7PnsQEBn"
      },
      "execution_count": 2,
      "outputs": []
    },
    {
      "cell_type": "code",
      "source": [
        "for layer in model.layers:\n",
        "  layer.trainable=False"
      ],
      "metadata": {
        "id": "ku1EJ7HpZKLq"
      },
      "execution_count": 4,
      "outputs": []
    },
    {
      "cell_type": "code",
      "source": [
        "F = Flatten()(model.output)\n",
        "prediction = Dense(2, activation='softmax')(F)\n",
        "model_VGG16 = Model(inputs=model.input, outputs=prediction)\n",
        "model_VGG16.summary()"
      ],
      "metadata": {
        "colab": {
          "base_uri": "https://localhost:8080/"
        },
        "id": "ULysEiS7aDTX",
        "outputId": "c792b995-6ffe-4b9c-d692-1737340b2c23"
      },
      "execution_count": 16,
      "outputs": [
        {
          "output_type": "stream",
          "name": "stdout",
          "text": [
            "Model: \"model\"\n",
            "_________________________________________________________________\n",
            " Layer (type)                Output Shape              Param #   \n",
            "=================================================================\n",
            " input_1 (InputLayer)        [(None, 224, 224, 3)]     0         \n",
            "                                                                 \n",
            " block1_conv1 (Conv2D)       (None, 224, 224, 64)      1792      \n",
            "                                                                 \n",
            " block1_conv2 (Conv2D)       (None, 224, 224, 64)      36928     \n",
            "                                                                 \n",
            " block1_pool (MaxPooling2D)  (None, 112, 112, 64)      0         \n",
            "                                                                 \n",
            " block2_conv1 (Conv2D)       (None, 112, 112, 128)     73856     \n",
            "                                                                 \n",
            " block2_conv2 (Conv2D)       (None, 112, 112, 128)     147584    \n",
            "                                                                 \n",
            " block2_pool (MaxPooling2D)  (None, 56, 56, 128)       0         \n",
            "                                                                 \n",
            " block3_conv1 (Conv2D)       (None, 56, 56, 256)       295168    \n",
            "                                                                 \n",
            " block3_conv2 (Conv2D)       (None, 56, 56, 256)       590080    \n",
            "                                                                 \n",
            " block3_conv3 (Conv2D)       (None, 56, 56, 256)       590080    \n",
            "                                                                 \n",
            " block3_pool (MaxPooling2D)  (None, 28, 28, 256)       0         \n",
            "                                                                 \n",
            " block4_conv1 (Conv2D)       (None, 28, 28, 512)       1180160   \n",
            "                                                                 \n",
            " block4_conv2 (Conv2D)       (None, 28, 28, 512)       2359808   \n",
            "                                                                 \n",
            " block4_conv3 (Conv2D)       (None, 28, 28, 512)       2359808   \n",
            "                                                                 \n",
            " block4_pool (MaxPooling2D)  (None, 14, 14, 512)       0         \n",
            "                                                                 \n",
            " block5_conv1 (Conv2D)       (None, 14, 14, 512)       2359808   \n",
            "                                                                 \n",
            " block5_conv2 (Conv2D)       (None, 14, 14, 512)       2359808   \n",
            "                                                                 \n",
            " block5_conv3 (Conv2D)       (None, 14, 14, 512)       2359808   \n",
            "                                                                 \n",
            " block5_pool (MaxPooling2D)  (None, 7, 7, 512)         0         \n",
            "                                                                 \n",
            " flatten (Flatten)           (None, 25088)             0         \n",
            "                                                                 \n",
            " dense (Dense)               (None, 2)                 50178     \n",
            "                                                                 \n",
            "=================================================================\n",
            "Total params: 14,764,866\n",
            "Trainable params: 50,178\n",
            "Non-trainable params: 14,714,688\n",
            "_________________________________________________________________\n"
          ]
        }
      ]
    },
    {
      "cell_type": "code",
      "source": [
        "#Training the model\n",
        "model_VGG16.compile(optimizer=\"adam\", loss='categorical_crossentropy', metrics=[\"accuracy\"])\n",
        "\n",
        "\n",
        "trained_model_VGG16=model_VGG16.fit(train_generator,validation_data  = valid_generator\n",
        ",epochs=5,verbose=2)\n"
      ],
      "metadata": {
        "colab": {
          "base_uri": "https://localhost:8080/"
        },
        "id": "Q5r6cH_MZKoP",
        "outputId": "1a46a10c-97ea-431a-cea3-818072ea24db"
      },
      "execution_count": 17,
      "outputs": [
        {
          "output_type": "stream",
          "name": "stdout",
          "text": [
            "Epoch 1/5\n",
            "30/30 - 721s - loss: 0.7639 - accuracy: 0.6849 - val_loss: 0.4997 - val_accuracy: 0.7547 - 721s/epoch - 24s/step\n",
            "Epoch 2/5\n",
            "30/30 - 712s - loss: 0.4397 - accuracy: 0.8075 - val_loss: 0.5437 - val_accuracy: 0.7601 - 712s/epoch - 24s/step\n",
            "Epoch 3/5\n",
            "30/30 - 709s - loss: 0.3489 - accuracy: 0.8462 - val_loss: 0.4689 - val_accuracy: 0.7790 - 709s/epoch - 24s/step\n",
            "Epoch 4/5\n",
            "30/30 - 705s - loss: 0.4029 - accuracy: 0.8376 - val_loss: 1.0681 - val_accuracy: 0.6900 - 705s/epoch - 23s/step\n",
            "Epoch 5/5\n",
            "30/30 - 708s - loss: 0.4705 - accuracy: 0.8118 - val_loss: 0.5534 - val_accuracy: 0.7898 - 708s/epoch - 24s/step\n"
          ]
        }
      ]
    },
    {
      "cell_type": "code",
      "source": [
        "plot_accuracy(trained_model_VGG16)\n",
        "plot_loss(trained_model_VGG16)"
      ],
      "metadata": {
        "colab": {
          "base_uri": "https://localhost:8080/",
          "height": 573
        },
        "id": "5EZQbndAiPck",
        "outputId": "f99e6914-d1d8-4960-98b2-bbdac7369062"
      },
      "execution_count": 18,
      "outputs": [
        {
          "output_type": "display_data",
          "data": {
            "text/plain": [
              "<Figure size 432x288 with 1 Axes>"
            ],
            "image/png": "[encoded data removed]"
          },
          "metadata": {
            "needs_background": "light"
          }
        },
        {
          "output_type": "display_data",
          "data": {
            "text/plain": [
              "<Figure size 432x288 with 1 Axes>"
            ],
            "image/png": "[encoded data removed]"
          },
          "metadata": {
            "needs_background": "light"
          }
        }
      ]
    },
    {
      "cell_type": "markdown",
      "source": [
        "#VGG19"
      ],
      "metadata": {
        "id": "TKo3ksu8hk8Q"
      }
    },
    {
      "cell_type": "code",
      "source": [
        "from tensorflow.keras.applications.vgg19 import VGG19\n",
        "from tensorflow.keras.preprocessing import image\n",
        "from tensorflow.keras.applications.vgg19 import preprocess_input\n",
        "from tensorflow.keras.models import Model\n",
        "import numpy as np\n",
        "\n",
        "#Defining the model for VGG19\n",
        "model1 = VGG19(input_shape= [224,224,3],\n",
        "               weights='imagenet',\n",
        "               include_top=False)"
      ],
      "metadata": {
        "id": "qyAxmd-PE0oJ"
      },
      "execution_count": 19,
      "outputs": []
    },
    {
      "cell_type": "code",
      "source": [
        "for layer in model1.layers:\n",
        "  layer.trainable=False"
      ],
      "metadata": {
        "id": "gnhAbub5FNkP"
      },
      "execution_count": 18,
      "outputs": []
    },
    {
      "cell_type": "code",
      "source": [
        "Y = Flatten()(model1.output)\n",
        "prediction = Dense(2, activation='softmax')(Y)\n",
        "model_VGG19 = Model(inputs=model1.input, outputs=prediction)\n",
        "model_VGG19.summary()"
      ],
      "metadata": {
        "colab": {
          "base_uri": "https://localhost:8080/"
        },
        "id": "a_5hSenFFh3-",
        "outputId": "39b30e7e-8bb4-4dd8-b547-f83f7000ca2d"
      },
      "execution_count": 19,
      "outputs": [
        {
          "output_type": "stream",
          "name": "stdout",
          "text": [
            "Model: \"model_1\"\n",
            "_________________________________________________________________\n",
            " Layer (type)                Output Shape              Param #   \n",
            "=================================================================\n",
            " input_2 (InputLayer)        [(None, 224, 224, 3)]     0         \n",
            "                                                                 \n",
            " block1_conv1 (Conv2D)       (None, 224, 224, 64)      1792      \n",
            "                                                                 \n",
            " block1_conv2 (Conv2D)       (None, 224, 224, 64)      36928     \n",
            "                                                                 \n",
            " block1_pool (MaxPooling2D)  (None, 112, 112, 64)      0         \n",
            "                                                                 \n",
            " block2_conv1 (Conv2D)       (None, 112, 112, 128)     73856     \n",
            "                                                                 \n",
            " block2_conv2 (Conv2D)       (None, 112, 112, 128)     147584    \n",
            "                                                                 \n",
            " block2_pool (MaxPooling2D)  (None, 56, 56, 128)       0         \n",
            "                                                                 \n",
            " block3_conv1 (Conv2D)       (None, 56, 56, 256)       295168    \n",
            "                                                                 \n",
            " block3_conv2 (Conv2D)       (None, 56, 56, 256)       590080    \n",
            "                                                                 \n",
            " block3_conv3 (Conv2D)       (None, 56, 56, 256)       590080    \n",
            "                                                                 \n",
            " block3_conv4 (Conv2D)       (None, 56, 56, 256)       590080    \n",
            "                                                                 \n",
            " block3_pool (MaxPooling2D)  (None, 28, 28, 256)       0         \n",
            "                                                                 \n",
            " block4_conv1 (Conv2D)       (None, 28, 28, 512)       1180160   \n",
            "                                                                 \n",
            " block4_conv2 (Conv2D)       (None, 28, 28, 512)       2359808   \n",
            "                                                                 \n",
            " block4_conv3 (Conv2D)       (None, 28, 28, 512)       2359808   \n",
            "                                                                 \n",
            " block4_conv4 (Conv2D)       (None, 28, 28, 512)       2359808   \n",
            "                                                                 \n",
            " block4_pool (MaxPooling2D)  (None, 14, 14, 512)       0         \n",
            "                                                                 \n",
            " block5_conv1 (Conv2D)       (None, 14, 14, 512)       2359808   \n",
            "                                                                 \n",
            " block5_conv2 (Conv2D)       (None, 14, 14, 512)       2359808   \n",
            "                                                                 \n",
            " block5_conv3 (Conv2D)       (None, 14, 14, 512)       2359808   \n",
            "                                                                 \n",
            " block5_conv4 (Conv2D)       (None, 14, 14, 512)       2359808   \n",
            "                                                                 \n",
            " block5_pool (MaxPooling2D)  (None, 7, 7, 512)         0         \n",
            "                                                                 \n",
            " flatten_1 (Flatten)         (None, 25088)             0         \n",
            "                                                                 \n",
            " dense_1 (Dense)             (None, 2)                 50178     \n",
            "                                                                 \n",
            "=================================================================\n",
            "Total params: 20,074,562\n",
            "Trainable params: 50,178\n",
            "Non-trainable params: 20,024,384\n",
            "_________________________________________________________________\n"
          ]
        }
      ]
    },
    {
      "cell_type": "code",
      "source": [
        "#Training the model\n",
        "model_VGG19.compile(optimizer=\"adam\", loss='categorical_crossentropy', metrics=[\"accuracy\"])\n",
        "\n",
        "trained_model_VGG19=model_VGG19.fit_generator(train_generator,validation_data  = valid_generator,epochs=5,verbose=2)"
      ],
      "metadata": {
        "colab": {
          "base_uri": "https://localhost:8080/"
        },
        "id": "PiqS9kB_FiDY",
        "outputId": "af518817-058f-4a52-9a63-1622ebbeab58"
      },
      "execution_count": 20,
      "outputs": [
        {
          "output_type": "stream",
          "name": "stderr",
          "text": [
            "<ipython-input-20-0497c1db729d>:4: UserWarning: `Model.fit_generator` is deprecated and will be removed in a future version. Please use `Model.fit`, which supports generators.\n",
            "  trained_model_VGG19=model_VGG19.fit_generator(train_generator,validation_data  = valid_generator,epochs=5,verbose=2)\n"
          ]
        },
        {
          "output_type": "stream",
          "name": "stdout",
          "text": [
            "Epoch 1/5\n",
            "30/30 - 891s - loss: 0.8582 - accuracy: 0.6634 - val_loss: 0.4773 - val_accuracy: 0.7601 - 891s/epoch - 30s/step\n",
            "Epoch 2/5\n",
            "30/30 - 889s - loss: 0.5159 - accuracy: 0.7581 - val_loss: 0.4896 - val_accuracy: 0.7817 - 889s/epoch - 30s/step\n",
            "Epoch 3/5\n",
            "30/30 - 890s - loss: 0.3801 - accuracy: 0.8398 - val_loss: 0.5063 - val_accuracy: 0.7547 - 890s/epoch - 30s/step\n",
            "Epoch 4/5\n",
            "30/30 - 899s - loss: 0.3276 - accuracy: 0.8548 - val_loss: 0.5490 - val_accuracy: 0.7197 - 899s/epoch - 30s/step\n",
            "Epoch 5/5\n",
            "30/30 - 897s - loss: 0.3395 - accuracy: 0.8581 - val_loss: 0.5007 - val_accuracy: 0.7682 - 897s/epoch - 30s/step\n"
          ]
        }
      ]
    },
    {
      "cell_type": "code",
      "source": [
        "plot_accuracy(trained_model_VGG19)\n",
        "plot_loss(trained_model_VGG19)"
      ],
      "metadata": {
        "colab": {
          "base_uri": "https://localhost:8080/",
          "height": 573
        },
        "id": "JtRNiNO_8bjh",
        "outputId": "c7af09b2-6e26-4265-8588-af714c9a59e7"
      },
      "execution_count": 21,
      "outputs": [
        {
          "output_type": "display_data",
          "data": {
            "text/plain": [
              "<Figure size 432x288 with 1 Axes>"
            ],
            "image/png": "[encoded data removed]"
          },
          "metadata": {
            "needs_background": "light"
          }
        },
        {
          "output_type": "display_data",
          "data": {
            "text/plain": [
              "<Figure size 432x288 with 1 Axes>"
            ],
            "image/png": "[encoded data removed]"
          },
          "metadata": {
            "needs_background": "light"
          }
        }
      ]
    },
    {
      "cell_type": "markdown",
      "source": [
        "#Alexnet model"
      ],
      "metadata": {
        "id": "8MYDGWGSGbhO"
      }
    },
    {
      "cell_type": "code",
      "source": [
        "#Defining the model using the H5 file\n",
        "from keras.models import load_model\n",
        "model = load_model('/content/drive/MyDrive/alex_rip_off_pizza_included_final.h5')"
      ],
      "metadata": {
        "id": "jXaxU8n0ubsG"
      },
      "execution_count": 20,
      "outputs": []
    },
    {
      "cell_type": "code",
      "source": [
        "for layer in model.layers:\n",
        "  layer.trainable=False"
      ],
      "metadata": {
        "id": "G5tgdmA0uoZd"
      },
      "execution_count": 21,
      "outputs": []
    },
    {
      "cell_type": "code",
      "source": [
        "x = Flatten()(model.output)\n",
        "prediction = Dense(2, activation='softmax')(x)\n",
        "model3 = Model(inputs=model.input, outputs=prediction)\n",
        "model3.summary()"
      ],
      "metadata": {
        "colab": {
          "base_uri": "https://localhost:8080/"
        },
        "id": "xCocl6_yur6i",
        "outputId": "080fb52b-7515-4229-c352-a17e7ae7995f"
      },
      "execution_count": 25,
      "outputs": [
        {
          "output_type": "stream",
          "name": "stdout",
          "text": [
            "Model: \"model_4\"\n",
            "_________________________________________________________________\n",
            " Layer (type)                Output Shape              Param #   \n",
            "=================================================================\n",
            " conv2d_input (InputLayer)   [(None, 227, 227, 3)]     0         \n",
            "                                                                 \n",
            " conv2d (Conv2D)             (None, 55, 55, 96)        34944     \n",
            "                                                                 \n",
            " max_pooling2d (MaxPooling2D  (None, 27, 27, 96)       0         \n",
            " )                                                               \n",
            "                                                                 \n",
            " conv2d_1 (Conv2D)           (None, 27, 27, 256)       614656    \n",
            "                                                                 \n",
            " max_pooling2d_1 (MaxPooling  (None, 13, 13, 256)      0         \n",
            " 2D)                                                             \n",
            "                                                                 \n",
            " conv2d_2 (Conv2D)           (None, 13, 13, 384)       885120    \n",
            "                                                                 \n",
            " conv2d_3 (Conv2D)           (None, 13, 13, 384)       1327488   \n",
            "                                                                 \n",
            " conv2d_4 (Conv2D)           (None, 13, 13, 256)       884992    \n",
            "                                                                 \n",
            " max_pooling2d_2 (MaxPooling  (None, 6, 6, 256)        0         \n",
            " 2D)                                                             \n",
            "                                                                 \n",
            " flatten (Flatten)           (None, 9216)              0         \n",
            "                                                                 \n",
            " dense (Dense)               (None, 4096)              37752832  \n",
            "                                                                 \n",
            " dense_1 (Dense)             (None, 4096)              16781312  \n",
            "                                                                 \n",
            " dense_2 (Dense)             (None, 1000)              4097000   \n",
            "                                                                 \n",
            " dense_3 (Dense)             (None, 5)                 5005      \n",
            "                                                                 \n",
            " flatten_4 (Flatten)         (None, 5)                 0         \n",
            "                                                                 \n",
            " dense_4 (Dense)             (None, 2)                 12        \n",
            "                                                                 \n",
            "=================================================================\n",
            "Total params: 62,383,361\n",
            "Trainable params: 12\n",
            "Non-trainable params: 62,383,349\n",
            "_________________________________________________________________\n"
          ]
        }
      ]
    },
    {
      "cell_type": "code",
      "source": [
        "#Training the model\n",
        "model3.compile(optimizer=tf.keras.optimizers.Adam(learning_rate=0.00001), loss=\"categorical_crossentropy\", metrics=[\"accuracy\"])\n",
        "\n",
        "trained_alexnet_model=model3.fit_generator(train_generator,validation_data  = valid_generator,epochs=10,verbose=2)"
      ],
      "metadata": {
        "colab": {
          "base_uri": "https://localhost:8080/"
        },
        "id": "CP6DBq6Suy36",
        "outputId": "9ab833de-1394-40b9-d688-751403d6cc63"
      },
      "execution_count": 26,
      "outputs": [
        {
          "output_type": "stream",
          "name": "stderr",
          "text": [
            "<ipython-input-26-704d07655883>:3: UserWarning: `Model.fit_generator` is deprecated and will be removed in a future version. Please use `Model.fit`, which supports generators.\n",
            "  trained_alexnet_model=model3.fit_generator(train_generator,validation_data  = valid_generator,epochs=10,verbose=2)\n"
          ]
        },
        {
          "output_type": "stream",
          "name": "stdout",
          "text": [
            "Epoch 1/10\n",
            "30/30 - 71s - loss: 0.6114 - accuracy: 0.7022 - val_loss: 0.6401 - val_accuracy: 0.6712 - 71s/epoch - 2s/step\n",
            "Epoch 2/10\n",
            "30/30 - 71s - loss: 0.6124 - accuracy: 0.7000 - val_loss: 0.6401 - val_accuracy: 0.6712 - 71s/epoch - 2s/step\n",
            "Epoch 3/10\n",
            "30/30 - 73s - loss: 0.6131 - accuracy: 0.6968 - val_loss: 0.6401 - val_accuracy: 0.6712 - 73s/epoch - 2s/step\n",
            "Epoch 4/10\n",
            "30/30 - 92s - loss: 0.6142 - accuracy: 0.6978 - val_loss: 0.6401 - val_accuracy: 0.6712 - 92s/epoch - 3s/step\n",
            "Epoch 5/10\n",
            "30/30 - 73s - loss: 0.6129 - accuracy: 0.6978 - val_loss: 0.6401 - val_accuracy: 0.6712 - 73s/epoch - 2s/step\n",
            "Epoch 6/10\n",
            "30/30 - 73s - loss: 0.6157 - accuracy: 0.6957 - val_loss: 0.6401 - val_accuracy: 0.6712 - 73s/epoch - 2s/step\n",
            "Epoch 7/10\n",
            "30/30 - 68s - loss: 0.6110 - accuracy: 0.6989 - val_loss: 0.6401 - val_accuracy: 0.6712 - 68s/epoch - 2s/step\n",
            "Epoch 8/10\n",
            "30/30 - 71s - loss: 0.6141 - accuracy: 0.6946 - val_loss: 0.6401 - val_accuracy: 0.6712 - 71s/epoch - 2s/step\n",
            "Epoch 9/10\n",
            "30/30 - 70s - loss: 0.6125 - accuracy: 0.7000 - val_loss: 0.6401 - val_accuracy: 0.6712 - 70s/epoch - 2s/step\n",
            "Epoch 10/10\n",
            "30/30 - 68s - loss: 0.6138 - accuracy: 0.6946 - val_loss: 0.6401 - val_accuracy: 0.6712 - 68s/epoch - 2s/step\n"
          ]
        }
      ]
    },
    {
      "cell_type": "code",
      "source": [
        "plot_accuracy(trained_alexnet_model)\n",
        "plot_loss(trained_alexnet_model)"
      ],
      "metadata": {
        "colab": {
          "base_uri": "https://localhost:8080/",
          "height": 573
        },
        "id": "hFl9RcI6yNyn",
        "outputId": "246b0fde-715e-4b95-9578-50de37842209"
      },
      "execution_count": 27,
      "outputs": [
        {
          "output_type": "display_data",
          "data": {
            "text/plain": [
              "<Figure size 432x288 with 1 Axes>"
            ],
            "image/png": "[encoded data removed]"
          },
          "metadata": {
            "needs_background": "light"
          }
        },
        {
          "output_type": "display_data",
          "data": {
            "text/plain": [
              "<Figure size 432x288 with 1 Axes>"
            ],
            "image/png": "[encoded data removed]"
          },
          "metadata": {
            "needs_background": "light"
          }
        }
      ]
    }
  ]
}