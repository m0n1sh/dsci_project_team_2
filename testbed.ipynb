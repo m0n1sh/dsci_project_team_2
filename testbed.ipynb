{
 "cells": [
  {
   "cell_type": "code",
   "execution_count": null,
   "outputs": [],
   "source": [
    "# Import Libraries\n",
    "import numpy as np\n",
    "import tensorflow as tf\n",
    "import matplotlib.pyplot as plt"
   ],
   "metadata": {
    "collapsed": false,
    "pycharm": {
     "name": "#%%\n"
    }
   }
  },
  {
   "cell_type": "code",
   "execution_count": null,
   "outputs": [],
   "source": [
    "# Constants\n",
    "# Data Location\n",
    "LOC = \"Limited_set\"\n",
    "Model_LOC = \"alex_rip_off_pizza_included_final.h5\""
   ],
   "metadata": {
    "collapsed": false,
    "pycharm": {
     "name": "#%%\n"
    }
   }
  },
  {
   "cell_type": "code",
   "execution_count": null,
   "outputs": [],
   "source": [
    "def pre_process_placeholder(in_data):\n",
    "    \"\"\"\n",
    "    A simple placeholder function to adjust for the lack of a need for special image pre-processing for our implementation\n",
    "    This function exists to allow for simple dictionary replacement in a global-usage testing method\n",
    "    :param in_data: the data\n",
    "    :return: the data as is\n",
    "    \"\"\"\n",
    "    return in_data"
   ],
   "metadata": {
    "collapsed": false,
    "pycharm": {
     "name": "#%%\n"
    }
   }
  },
  {
   "cell_type": "code",
   "execution_count": null,
   "outputs": [],
   "source": [
    "def fetch_class(res):\n",
    "    \"\"\"\n",
    "    Function for finding the class as provided by our AlexNet implementation\n",
    "    :param res: the result as produced by our AlexNet's implementation's predict method\n",
    "    :return: the class identified as the most likely\n",
    "    \"\"\"\n",
    "    return  [\"n01532829\", \"n02802426\", \"n03337140\", \"n04579145\", \"n07873807\"][np.argmax(res)]"
   ],
   "metadata": {
    "collapsed": false,
    "pycharm": {
     "name": "#%%\n"
    }
   }
  },
  {
   "cell_type": "code",
   "execution_count": null,
   "outputs": [],
   "source": [
    "# Dictionaries that map pretrained models to their required functionality to be subbed in during operations\n",
    "models = {\n",
    "    \"Xception\": tf.keras.applications.xception.Xception(weights=\"imagenet\"),\n",
    "    \"VGG16\": tf.keras.applications.vgg16.VGG16(weights=\"imagenet\"),\n",
    "    \"VGG19\": tf.keras.applications.vgg19.VGG19(weights=\"imagenet\"),\n",
    "    \"InceptionV3\": tf.keras.applications.InceptionV3(weights=\"imagenet\"),\n",
    "    \"ResNet50\": tf.keras.applications.resnet50.ResNet50(weights=\"imagenet\"),\n",
    "    \"AlexNet\": tf.keras.models.load_model(Model_LOC)\n",
    "}\n",
    "\n",
    "# Does the model allow for top 5 validation?\n",
    "extended = {\n",
    "    \"Xception\": True,\n",
    "    \"VGG16\": True,\n",
    "    \"VGG19\": True,\n",
    "    \"InceptionV3\": True,\n",
    "    \"ResNet50\": True,\n",
    "    \"AlexNet\": False\n",
    "}\n",
    "\n",
    "# PreProcessing System\n",
    "preproc = {\n",
    "    \"Xception\": tf.keras.applications.xception.preprocess_input,\n",
    "    \"VGG16\": tf.keras.applications.vgg16.preprocess_input,\n",
    "    \"VGG19\": tf.keras.applications.vgg19.preprocess_input,\n",
    "    \"InceptionV3\": tf.keras.applications.inception_v3.preprocess_input,\n",
    "    \"ResNet50\": tf.keras.applications.resnet50.preprocess_input,\n",
    "    \"AlexNet\": pre_process_placeholder\n",
    "}\n",
    "\n",
    "# The required decode method\n",
    "decode = {\n",
    "    \"Xception\": tf.keras.applications.imagenet_utils.decode_predictions,\n",
    "    \"VGG16\": tf.keras.applications.imagenet_utils.decode_predictions,\n",
    "    \"VGG19\": tf.keras.applications.imagenet_utils.decode_predictions,\n",
    "    \"InceptionV3\": tf.keras.applications.imagenet_utils.decode_predictions,\n",
    "    \"ResNet50\": tf.keras.applications.imagenet_utils.decode_predictions,\n",
    "    \"AlexNet\": fetch_class\n",
    "}"
   ],
   "metadata": {
    "collapsed": false,
    "pycharm": {
     "name": "#%%\n"
    }
   }
  },
  {
   "cell_type": "code",
   "execution_count": null,
   "outputs": [],
   "source": [
    "def test_model(model):\n",
    "    \"\"\"\n",
    "    Function to test a given model and to calculate the accuracy of the model (given a pre-trained model based on a larger set, it also calculates a top 5 accuracy)\n",
    "    :param model: the string model name to map through the various dictionary\n",
    "    :return: the top 1 accuracy of hte model\n",
    "    \"\"\"\n",
    "    print(\"Running tests on model:\", model)\n",
    "    count = 0\n",
    "    top1 = 0\n",
    "    top5 = 0\n",
    "    for i in train:\n",
    "        for j in range(len(i[1])):\n",
    "            count += 1\n",
    "            data_pre_pre_processing = i[0][j]\n",
    "            data_pre_pre_processing = np.expand_dims(data_pre_pre_processing, axis=0)\n",
    "            copy_of_data = np.copy(data_pre_pre_processing)\n",
    "            processed_data = preproc[model](copy_of_data)\n",
    "            res = models[model].predict(processed_data, verbose=0)\n",
    "            label = decode[model](res)\n",
    "            top5_list = []\n",
    "            if extended[model]:\n",
    "                for k in label[0]:\n",
    "                    top5_list.append(k[0])\n",
    "                if label[0][0][0] == train.class_names[int(i[1][j])]:\n",
    "                    top1 += 1\n",
    "                    top5 += 1\n",
    "                elif train.class_names[int(i[1][j])] in top5_list:\n",
    "                    top5 += 1\n",
    "            else:\n",
    "                if label == train.class_names[int(i[1][j])]:\n",
    "                    top1 += 1\n",
    "    print(\"Accuracy: \" + str((top1/count) * 100) + \"%\" )\n",
    "    if extended[model]:\n",
    "        print(\"Top 5 Accuracy: \" + str((top5/count) * 100) + \"%\")\n",
    "    print(\"\\n\\n\")\n",
    "    return (top1/count) * 100\n",
    "\n"
   ],
   "metadata": {
    "collapsed": false,
    "pycharm": {
     "name": "#%%\n"
    }
   }
  },
  {
   "cell_type": "code",
   "execution_count": null,
   "outputs": [],
   "source": [
    "accuracy_dict = {} # Dictionary that can be used for populating charts or other visualizations\n",
    "for model1 in models:\n",
    "    shapes = models[model1].get_config()[\"layers\"][0][\"config\"][\"batch_input_shape\"]\n",
    "    shape = (shapes[1], shapes[2])\n",
    "    # train, test = tf.keras.preprocessing.image_dataset_from_directory(LOC, validation_split=.99, subset=\"both\", seed=42, image_size=shape, batch_size=32) # IF you need to split for different sizes of data for quick testing. Comment the line below instead\n",
    "    train = tf.keras.preprocessing.image_dataset_from_directory(LOC, image_size=shape, batch_size=32)\n",
    "    accuracy_dict[model1] = test_model(model1)\n",
    "\n"
   ],
   "metadata": {
    "collapsed": false,
    "pycharm": {
     "name": "#%%\n"
    }
   }
  },
  {
   "cell_type": "code",
   "execution_count": null,
   "outputs": [],
   "source": [
    "# Recording of the data recorded in our testing (and as reported in the report). Running of the full application should produce the same results in the accuracy_dict dictionary.\n",
    "# This cell should not be run if the main processes are left to complete\n",
    "\n",
    "accuracy_dict = {\n",
    "    \"Xception\": 93.49320543565149,\n",
    "    \"VGG16\": 79.9040767386091,\n",
    "    \"VGG19\": 79.40847322142287,\n",
    "    \"InceptionV3\": 93.86091127098322,\n",
    "    \"ResNet50\": 86.68265387689848,\n",
    "    \"AlexNet\": 97.10631494804157\n",
    "}"
   ],
   "metadata": {
    "collapsed": false,
    "pycharm": {
     "name": "#%%\n"
    }
   }
  },
  {
   "cell_type": "code",
   "execution_count": null,
   "outputs": [],
   "source": [
    "plt.bar(range(len(accuracy_dict)), list(accuracy_dict.values()), tick_label=list(accuracy_dict.keys()))\n",
    "plt.xlabel(\"Model\")\n",
    "plt.ylabel(\"Accuracy (%)\")\n",
    "plt.show()"
   ],
   "metadata": {
    "collapsed": false,
    "pycharm": {
     "name": "#%%\n"
    }
   }
  },
  {
   "cell_type": "code",
   "execution_count": null,
   "outputs": [],
   "source": [
    "# Recording of the data recorded in our testing (and as reported in the report). Running of the full application should produce the same results in the accuracy_dict dictionary.\n",
    "# This cell should not be run if the main processes are left to complete\n",
    "\n",
    "accuracy_dict = {\n",
    "    \"Xception\": 93.49320543565149,\n",
    "    \"VGG16\": 79.9040767386091,\n",
    "    \"VGG19\": 79.40847322142287,\n",
    "    \"InceptionV3\": 93.86091127098322,\n",
    "    \"ResNet50\": 86.68265387689848,\n",
    "    \"AlexNet\": 97.10631494804157\n",
    "}"
   ],
   "metadata": {
    "collapsed": false,
    "pycharm": {
     "name": "#%%\n"
    }
   }
  },
  {
   "cell_type": "code",
   "execution_count": 102,
   "outputs": [
    {
     "data": {
      "text/plain": "<Figure size 640x480 with 1 Axes>",
      "image/png": "[encoded data removed]"
     },
     "metadata": {},
     "output_type": "display_data"
    }
   ],
   "source": [
    "plt.bar(range(len(accuracy_dict)), list(accuracy_dict.values()), tick_label=list(accuracy_dict.keys()))\n",
    "plt.xlabel(\"Model\")\n",
    "plt.ylabel(\"Accuracy (%)\")\n",
    "plt.show()"
   ],
   "metadata": {
    "collapsed": false,
    "pycharm": {
     "name": "#%%\n"
    }
   }
  }
 ],
 "metadata": {
  "kernelspec": {
   "display_name": "Python 3",
   "language": "python",
   "name": "python3"
  },
  "language_info": {
   "codemirror_mode": {
    "name": "ipython",
    "version": 2
   },
   "file_extension": ".py",
   "mimetype": "text/x-python",
   "name": "python",
   "nbconvert_exporter": "python",
   "pygments_lexer": "ipython2",
   "version": "2.7.6"
  }
 },
 "nbformat": 4,
 "nbformat_minor": 0
}