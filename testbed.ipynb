{
 "cells": [
  {
   "cell_type": "code",
   "execution_count": 49,
   "metadata": {
    "collapsed": true,
    "pycharm": {
     "name": "#%%\n"
    }
   },
   "outputs": [],
   "source": [
    "# Import Libraries\n",
    "import numpy as np\n",
    "import pandas as pd\n",
    "import tensorflow as tf"
   ]
  },
  {
   "cell_type": "code",
   "execution_count": 50,
   "outputs": [],
   "source": [
    "# Constants\n",
    "# Data Location\n",
    "LOC = \"D:\\DSCI\\Limited_set\"\n",
    "Model_LOC = \"\"\n",
    "# Classes to use\n",
    "classes = {\n",
    "\n",
    "}"
   ],
   "metadata": {
    "collapsed": false,
    "pycharm": {
     "name": "#%%\n"
    }
   }
  },
  {
   "cell_type": "code",
   "execution_count": null,
   "outputs": [],
   "source": [
    "# Model Dictionary\n",
    "models = {\n",
    "    \"Xception\": tf.keras.applications.xception.Xception(weights=\"imagenet\"),\n",
    "    \"VGG16\": tf.keras.applications.vgg16.VGG16(weights=\"imagenet\"),\n",
    "    \"VGG19\": tf.keras.applications.vgg19.VGG19(weights=\"imagenet\"),\n",
    "    \"InceptionV3\": tf.keras.applications.InceptionV3(weights=\"imagenet\"),\n",
    "    \"ResNet50\": tf.keras.applications.resnet50.ResNet50(weights=\"imagenet\"),\n",
    "#    \"AlexNet\": tf.keras.models.load_model(\"\")\n",
    "}\n",
    "\n",
    "# PreProcessing System\n",
    "preproc = {\n",
    "    \"Xception\": tf.keras.applications.xception.preprocess_input,\n",
    "    \"VGG16\": tf.keras.applications.vgg16.preprocess_input,\n",
    "    \"VGG19\": tf.keras.applications.vgg19.preprocess_input,\n",
    "    \"InceptionV3\": tf.keras.applications.inception_v3.preprocess_input,\n",
    "    \"ResNet50\": tf.keras.applications.resnet50.preprocess_input,\n",
    "#    \"AlexNet\": tf.keras.models.load_model(\"\")\n",
    "}\n"
   ],
   "metadata": {
    "collapsed": false,
    "pycharm": {
     "name": "#%%\n",
     "is_executing": true
    }
   }
  },
  {
   "cell_type": "code",
   "execution_count": null,
   "outputs": [],
   "source": [
    "# Testing\n",
    "def test_model(model):\n",
    "    print(\"Running tests on model:\", model)\n",
    "    count = 0\n",
    "    for i in train:\n",
    "        for j in range(len(i[1])):\n",
    "            a = i[0][j]\n",
    "            a = np.expand_dims(a, axis=0)\n",
    "            b = np.copy(a)\n",
    "            c = preproc[model](b)\n",
    "            res = models[model].predict(c)\n",
    "            label = tf.keras.applications.imagenet_utils.decode_predictions(res)\n",
    "            # print(int(i[1][j]))\n",
    "            print(label)\n",
    "            print(train.class_names[int(i[1][j])])\n",
    "            print(\"\\n\\n\")\n",
    "        break\n",
    "    # for j in test:\n",
    "    #     res = models[model].predict(j[0])\n"
   ],
   "metadata": {
    "collapsed": false,
    "pycharm": {
     "name": "#%%\n",
     "is_executing": true
    }
   }
  },
  {
   "cell_type": "code",
   "execution_count": null,
   "outputs": [],
   "source": [
    "for model1 in models:\n",
    "    shapes = models[model1].get_config()[\"layers\"][0][\"config\"][\"batch_input_shape\"]\n",
    "    shape = (shapes[1], shapes[2])\n",
    "    train, test = tf.keras.preprocessing.image_dataset_from_directory(LOC, validation_split=.2, subset=\"both\", seed=42, image_size=shape, batch_size=32)\n",
    "    # for element in train:\n",
    "    #     print(element[1])\n",
    "    #     break\n",
    "\n",
    "    try:\n",
    "        test_model(model1)\n",
    "\n",
    "    except Exception as e:\n",
    "        print(e)\n",
    "    break"
   ],
   "metadata": {
    "collapsed": false,
    "pycharm": {
     "name": "#%%\n",
     "is_executing": true
    }
   }
  }
 ],
 "metadata": {
  "kernelspec": {
   "display_name": "Python 3",
   "language": "python",
   "name": "python3"
  },
  "language_info": {
   "codemirror_mode": {
    "name": "ipython",
    "version": 2
   },
   "file_extension": ".py",
   "mimetype": "text/x-python",
   "name": "python",
   "nbconvert_exporter": "python",
   "pygments_lexer": "ipython2",
   "version": "2.7.6"
  }
 },
 "nbformat": 4,
 "nbformat_minor": 0
}