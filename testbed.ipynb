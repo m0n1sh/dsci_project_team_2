{
 "cells": [
  {
   "cell_type": "code",
   "execution_count": 60,
   "metadata": {
    "collapsed": true,
    "pycharm": {
     "name": "#%%\n"
    }
   },
   "outputs": [],
   "source": [
    "# Import Libraries\n",
    "import numpy as np\n",
    "import pandas as pd\n",
    "import tensorflow as tf"
   ]
  },
  {
   "cell_type": "code",
   "execution_count": 61,
   "outputs": [],
   "source": [
    "# Constants\n",
    "# Data Location\n",
    "LOC = \"D:\\DSCI\\Limited_set\"\n",
    "Model_LOC = \"\"\n",
    "# Classes to use\n",
    "classes = {\n",
    "\n",
    "}"
   ],
   "metadata": {
    "collapsed": false,
    "pycharm": {
     "name": "#%%\n"
    }
   }
  },
  {
   "cell_type": "code",
   "execution_count": 62,
   "outputs": [],
   "source": [
    "# Model Dictionary\n",
    "models = {\n",
    "    \"Xception\": tf.keras.applications.xception.Xception(weights=\"imagenet\"),\n",
    "    \"VGG16\": tf.keras.applications.vgg16.VGG16(weights=\"imagenet\"),\n",
    "    \"VGG19\": tf.keras.applications.vgg19.VGG19(weights=\"imagenet\"),\n",
    "    \"InceptionV3\": tf.keras.applications.InceptionV3(weights=\"imagenet\"),\n",
    "    \"ResNet50\": tf.keras.applications.resnet50.ResNet50(weights=\"imagenet\"),\n",
    "#    \"AlexNet\": tf.keras.models.load_model(\"\")\n",
    "}\n",
    "\n"
   ],
   "metadata": {
    "collapsed": false,
    "pycharm": {
     "name": "#%%\n"
    }
   }
  },
  {
   "cell_type": "code",
   "execution_count": 65,
   "outputs": [],
   "source": [
    "# Testing\n",
    "def test_model(model):\n",
    "    print(\"Running tests on model:\", model)\n",
    "    a = models[model].predict(train)\n",
    "    b = models[model].predict(test)\n",
    "    print(a)\n"
   ],
   "metadata": {
    "collapsed": false,
    "pycharm": {
     "name": "#%%\n"
    }
   }
  },
  {
   "cell_type": "code",
   "execution_count": 65,
   "outputs": [
    {
     "name": "stdout",
     "output_type": "stream",
     "text": [
      "Found 6500 files belonging to 5 classes.\n",
      "Using 5200 files for training.\n",
      "Using 1300 files for validation.\n",
      "Running tests on model: Xception\n",
      " 12/163 [=>............................] - ETA: 5:13"
     ]
    }
   ],
   "source": [
    "for model1 in models:\n",
    "    shapes = models[model1].get_config()[\"layers\"][0][\"config\"][\"batch_input_shape\"]\n",
    "    shape = (shapes[1], shapes[2])\n",
    "    train, test = tf.keras.preprocessing.image_dataset_from_directory(LOC, validation_split=.2, subset=\"both\", seed=42, image_size=shape)\n",
    "\n",
    "    try:\n",
    "        test_model(model1)\n",
    "    except Exception as e:\n",
    "        print(e)\n"
   ],
   "metadata": {
    "collapsed": false,
    "pycharm": {
     "name": "#%%\n"
    }
   }
  }
 ],
 "metadata": {
  "kernelspec": {
   "display_name": "Python 3",
   "language": "python",
   "name": "python3"
  },
  "language_info": {
   "codemirror_mode": {
    "name": "ipython",
    "version": 2
   },
   "file_extension": ".py",
   "mimetype": "text/x-python",
   "name": "python",
   "nbconvert_exporter": "python",
   "pygments_lexer": "ipython2",
   "version": "2.7.6"
  }
 },
 "nbformat": 4,
 "nbformat_minor": 0
}