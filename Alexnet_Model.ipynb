{
  "nbformat": 4,
  "nbformat_minor": 0,
  "metadata": {
    "colab": {
      "provenance": []
    },
    "kernelspec": {
      "name": "python3",
      "display_name": "Python 3"
    },
    "language_info": {
      "name": "python"
    }
  },
  "cells": [
    {
      "cell_type": "code",
      "execution_count": 1,
      "metadata": {
        "id": "7KZ-4IKDtLoG"
      },
      "outputs": [],
      "source": [
        "import numpy as np\n",
        "import cv2\n",
        "\n",
        "import PIL.Image as Image\n",
        "import os\n",
        "\n",
        "import matplotlib.pylab as plt\n",
        "\n",
        "import tensorflow as tf\n",
        "import tensorflow_hub as hub\n",
        "\n",
        "from tensorflow import keras\n",
        "from tensorflow.keras import layers\n",
        "from tensorflow.keras.models import Sequential\n",
        "from zipfile import ZipFile\n",
        "import datetime\n",
        "import numpy as np\n",
        "import os\n",
        "import tensorflow as tf\n",
        "import matplotlib.pyplot as plt\n",
        "from tqdm import tqdm\n",
        "\n",
        "from tensorflow.keras import Model\n",
        "# from tensorflow.keras.models import Sequential\n",
        "from tensorflow.keras.utils import to_categorical\n",
        "from tensorflow.keras.losses import categorical_crossentropy\n",
        "from tensorflow.keras.preprocessing.image import ImageDataGenerator\n",
        "from tensorflow.keras.layers import Dense, Flatten, Conv2D, MaxPooling2D, Dropout\n",
        "import numpy as np\n",
        "import cv2\n",
        "\n",
        "import PIL.Image as Image\n",
        "import os\n",
        "\n",
        "import matplotlib.pylab as plt\n",
        "\n",
        "import tensorflow as tf\n",
        "import tensorflow_hub as hub\n",
        "\n",
        "from tensorflow import keras\n",
        "from tensorflow.keras import layers\n",
        "from tensorflow.keras.models import Sequential"
      ]
    },
    {
      "cell_type": "code",
      "source": [
        "from google.colab import drive\n",
        "drive.mount('/content/drive')"
      ],
      "metadata": {
        "colab": {
          "base_uri": "https://localhost:8080/"
        },
        "id": "y5QKqxARtTBy",
        "outputId": "ff7bd817-b06e-4207-ddb8-eeb9e97fecb2"
      },
      "execution_count": 2,
      "outputs": [
        {
          "output_type": "stream",
          "name": "stdout",
          "text": [
            "Mounted at /content/drive\n"
          ]
        }
      ]
    },
    {
      "cell_type": "code",
      "source": [
        "## Mark train\n",
        "with ZipFile('/content/drive/MyDrive/train_pizza.zip') as zipObj:\n",
        "  zipObj.extractall('/sample/train_pizza/')"
      ],
      "metadata": {
        "id": "TKxdxXBdtWDp"
      },
      "execution_count": 3,
      "outputs": []
    },
    {
      "cell_type": "code",
      "source": [
        "with ZipFile('/content/drive/MyDrive/test_pizza.zip') as zipObj1:\n",
        "  zipObj1.extractall('/test_pizza')"
      ],
      "metadata": {
        "id": "uCY7Yk9KtaOv"
      },
      "execution_count": 4,
      "outputs": []
    },
    {
      "cell_type": "code",
      "source": [
        "## Mark train\n",
        "training_dataset_path = \"/sample/train_pizza/train\"\n",
        "test_dataset_path = \"/test_pizza/test_pizza\""
      ],
      "metadata": {
        "id": "RoKyjisNthxP"
      },
      "execution_count": 5,
      "outputs": []
    },
    {
      "cell_type": "code",
      "source": [
        "EPOCHS = 30\n",
        "BATCH_SIZE = 32\n",
        "image_height = 227\n",
        "image_width = 227\n",
        "train_dir = \"/sample/train_pizza/train\"\n",
        "valid_dir = \"/test_pizza\"\n",
        "# model_dir = \"./my_model.h5\""
      ],
      "metadata": {
        "id": "I-Y0gQi4vPUt"
      },
      "execution_count": 6,
      "outputs": []
    },
    {
      "cell_type": "code",
      "source": [
        "train_datagen = ImageDataGenerator(\n",
        "                  rescale=1./255,\n",
        "                  rotation_range=10,\n",
        "                  width_shift_range=0.1,\n",
        "                  height_shift_range=0.1,\n",
        "                  shear_range=0.1,\n",
        "                  zoom_range=0.1)\n",
        "\n",
        "train_generator = train_datagen.flow_from_directory(train_dir,\n",
        "                                                    target_size=(image_height, image_width),\n",
        "                                                    color_mode=\"rgb\",\n",
        "                                                    batch_size=BATCH_SIZE,\n",
        "                                                    seed=1,\n",
        "                                                    shuffle=True,\n",
        "                                                    class_mode=\"categorical\")\n",
        "\n",
        "valid_datagen = ImageDataGenerator(rescale=1.0/255.0)\n",
        "valid_generator = valid_datagen.flow_from_directory(valid_dir,\n",
        "                                                    target_size=(image_height, image_width),\n",
        "                                                    color_mode=\"rgb\",\n",
        "                                                    batch_size=BATCH_SIZE,\n",
        "                                                    seed=7,\n",
        "                                                    shuffle=True,\n",
        "                                                    class_mode=\"categorical\"\n",
        "                                                    )\n",
        "train_num = train_generator.samples\n",
        "valid_num = valid_generator.samples"
      ],
      "metadata": {
        "colab": {
          "base_uri": "https://localhost:8080/"
        },
        "id": "LG5g2CVGvb9h",
        "outputId": "3eb09de9-891c-4433-b589-b6c7878ac254"
      },
      "execution_count": 7,
      "outputs": [
        {
          "output_type": "stream",
          "name": "stdout",
          "text": [
            "Found 930 images belonging to 2 classes.\n",
            "Found 371 images belonging to 1 classes.\n"
          ]
        }
      ]
    },
    {
      "cell_type": "markdown",
      "source": [
        "VGG 16"
      ],
      "metadata": {
        "id": "h1CUA3RYP_Ky"
      }
    },
    {
      "cell_type": "code",
      "source": [
        "from tensorflow.keras.applications.vgg16 import VGG16\n",
        "from tensorflow.keras.preprocessing import image\n",
        "from tensorflow.keras.applications.vgg16 import preprocess_input\n",
        "import numpy as np\n",
        "from keras.models import load_model\n",
        "model = load_model('/content/drive/MyDrive/alex_rip_off_pizza_included_final.h5')\n",
        "\n",
        "\n",
        "\n"
      ],
      "metadata": {
        "id": "t5Yd7PnsQEBn"
      },
      "execution_count": 9,
      "outputs": []
    },
    {
      "cell_type": "code",
      "source": [
        "for layer in model.layers:\n",
        "  layer.trainable=False"
      ],
      "metadata": {
        "id": "ku1EJ7HpZKLq"
      },
      "execution_count": 10,
      "outputs": []
    },
    {
      "cell_type": "code",
      "source": [
        "x = Flatten()(model.output)\n",
        "prediction = Dense(2, activation='softmax')(x)\n",
        "model3 = Model(inputs=model.input, outputs=prediction)\n",
        "model3.summary()"
      ],
      "metadata": {
        "colab": {
          "base_uri": "https://localhost:8080/"
        },
        "id": "ULysEiS7aDTX",
        "outputId": "78cfb00a-be42-44b5-e7ac-9b4e3df5bbeb"
      },
      "execution_count": 15,
      "outputs": [
        {
          "output_type": "stream",
          "name": "stdout",
          "text": [
            "Model: \"model_4\"\n",
            "_________________________________________________________________\n",
            " Layer (type)                Output Shape              Param #   \n",
            "=================================================================\n",
            " conv2d_input (InputLayer)   [(None, 227, 227, 3)]     0         \n",
            "                                                                 \n",
            " conv2d (Conv2D)             (None, 55, 55, 96)        34944     \n",
            "                                                                 \n",
            " max_pooling2d (MaxPooling2D  (None, 27, 27, 96)       0         \n",
            " )                                                               \n",
            "                                                                 \n",
            " conv2d_1 (Conv2D)           (None, 27, 27, 256)       614656    \n",
            "                                                                 \n",
            " max_pooling2d_1 (MaxPooling  (None, 13, 13, 256)      0         \n",
            " 2D)                                                             \n",
            "                                                                 \n",
            " conv2d_2 (Conv2D)           (None, 13, 13, 384)       885120    \n",
            "                                                                 \n",
            " conv2d_3 (Conv2D)           (None, 13, 13, 384)       1327488   \n",
            "                                                                 \n",
            " conv2d_4 (Conv2D)           (None, 13, 13, 256)       884992    \n",
            "                                                                 \n",
            " max_pooling2d_2 (MaxPooling  (None, 6, 6, 256)        0         \n",
            " 2D)                                                             \n",
            "                                                                 \n",
            " flatten (Flatten)           (None, 9216)              0         \n",
            "                                                                 \n",
            " dense (Dense)               (None, 4096)              37752832  \n",
            "                                                                 \n",
            " dense_1 (Dense)             (None, 4096)              16781312  \n",
            "                                                                 \n",
            " dense_2 (Dense)             (None, 1000)              4097000   \n",
            "                                                                 \n",
            " dense_3 (Dense)             (None, 5)                 5005      \n",
            "                                                                 \n",
            " flatten_4 (Flatten)         (None, 5)                 0         \n",
            "                                                                 \n",
            " dense_4 (Dense)             (None, 2)                 12        \n",
            "                                                                 \n",
            "=================================================================\n",
            "Total params: 62,383,361\n",
            "Trainable params: 12\n",
            "Non-trainable params: 62,383,349\n",
            "_________________________________________________________________\n"
          ]
        }
      ]
    },
    {
      "cell_type": "code",
      "source": [
        "model3.compile(optimizer=tf.keras.optimizers.Adam(learning_rate=0.00001), loss=\"categorical_crossentropy\", metrics=[\"accuracy\"])\n",
        "\n",
        "m=model3.fit_generator(train_generator,validation_data  = valid_generator,epochs=10,verbose=2)"
      ],
      "metadata": {
        "colab": {
          "base_uri": "https://localhost:8080/"
        },
        "id": "Q5r6cH_MZKoP",
        "outputId": "fbb69d96-dffb-4fa4-ab4d-f85b32c2a846"
      },
      "execution_count": 16,
      "outputs": [
        {
          "output_type": "stream",
          "name": "stderr",
          "text": [
            "<ipython-input-16-24c7b534a67d>:3: UserWarning: `Model.fit_generator` is deprecated and will be removed in a future version. Please use `Model.fit`, which supports generators.\n",
            "  m=model3.fit_generator(train_generator,validation_data  = valid_generator,epochs=10,verbose=2)\n"
          ]
        },
        {
          "output_type": "stream",
          "name": "stdout",
          "text": [
            "Epoch 1/10\n",
            "30/30 - 68s - loss: 0.6323 - accuracy: 0.6989 - val_loss: 1.7636 - val_accuracy: 0.9353 - 68s/epoch - 2s/step\n",
            "Epoch 2/10\n",
            "30/30 - 66s - loss: 0.6304 - accuracy: 0.6978 - val_loss: 1.7632 - val_accuracy: 0.9353 - 66s/epoch - 2s/step\n",
            "Epoch 3/10\n",
            "30/30 - 66s - loss: 0.6298 - accuracy: 0.6978 - val_loss: 1.7628 - val_accuracy: 0.9353 - 66s/epoch - 2s/step\n",
            "Epoch 4/10\n",
            "30/30 - 65s - loss: 0.6287 - accuracy: 0.6978 - val_loss: 1.7623 - val_accuracy: 0.9353 - 65s/epoch - 2s/step\n",
            "Epoch 5/10\n",
            "30/30 - 66s - loss: 0.6300 - accuracy: 0.7000 - val_loss: 1.7620 - val_accuracy: 0.9353 - 66s/epoch - 2s/step\n",
            "Epoch 6/10\n",
            "30/30 - 68s - loss: 0.6252 - accuracy: 0.6989 - val_loss: 1.7616 - val_accuracy: 0.9353 - 68s/epoch - 2s/step\n",
            "Epoch 7/10\n",
            "30/30 - 66s - loss: 0.6326 - accuracy: 0.6957 - val_loss: 1.7612 - val_accuracy: 0.9353 - 66s/epoch - 2s/step\n",
            "Epoch 8/10\n",
            "30/30 - 65s - loss: 0.6278 - accuracy: 0.6989 - val_loss: 1.7607 - val_accuracy: 0.9353 - 65s/epoch - 2s/step\n",
            "Epoch 9/10\n",
            "30/30 - 68s - loss: 0.6293 - accuracy: 0.6989 - val_loss: 1.7605 - val_accuracy: 0.9353 - 68s/epoch - 2s/step\n",
            "Epoch 10/10\n",
            "30/30 - 66s - loss: 0.6286 - accuracy: 0.7000 - val_loss: 1.7601 - val_accuracy: 0.9353 - 66s/epoch - 2s/step\n"
          ]
        }
      ]
    },
    {
      "cell_type": "code",
      "source": [
        "def plot_accuracy(hist):\n",
        "        \n",
        "  plt.plot(hist.history[\"accuracy\"])\n",
        "  plt.plot(hist.history[\"val_accuracy\"])\n",
        "  plt.title(\"Model accuracy\")\n",
        "  plt.ylabel(\"accuracy\")\n",
        "  plt.xlabel(\"epoch\")\n",
        "  plt.legend([\"train\", \"validation\"], loc=\"upper left\")\n",
        "  plt.show()"
      ],
      "metadata": {
        "id": "te1N8fPZ7mtm"
      },
      "execution_count": 17,
      "outputs": []
    },
    {
      "cell_type": "code",
      "source": [
        "def plot_loss(hist):\n",
        "  plt.plot(hist.history[\"loss\"])\n",
        "  plt.plot(hist.history[\"val_loss\"])\n",
        "  plt.title(\"Model loss\")\n",
        "  plt.ylabel(\"loss\")\n",
        "  plt.xlabel(\"epoch\")\n",
        "  plt.legend([\"train\", \"validation\"], loc=\"upper left\")\n",
        "  plt.show()"
      ],
      "metadata": {
        "id": "i76LtxVl7yY5"
      },
      "execution_count": 18,
      "outputs": []
    },
    {
      "cell_type": "code",
      "source": [
        "plot_accuracy(m)\n",
        "plot_loss(m)"
      ],
      "metadata": {
        "colab": {
          "base_uri": "https://localhost:8080/",
          "height": 573
        },
        "id": "nx0zZFQW71K7",
        "outputId": "f17e3698-0763-43c1-9938-e2d438caf74d"
      },
      "execution_count": 19,
      "outputs": [
        {
          "output_type": "display_data",
          "data": {
            "text/plain": [
              "<Figure size 432x288 with 1 Axes>"
            ],
            "image/png": "[encoded data removed]"
          },
          "metadata": {
            "needs_background": "light"
          }
        },
        {
          "output_type": "display_data",
          "data": {
            "text/plain": [
              "<Figure size 432x288 with 1 Axes>"
            ],
            "image/png": "[encoded data removed]"
          },
          "metadata": {
            "needs_background": "light"
          }
        }
      ]
    },
    {
      "cell_type": "code",
      "source": [],
      "metadata": {
        "id": "q4rWSn7f72M8"
      },
      "execution_count": null,
      "outputs": []
    }
  ]
}